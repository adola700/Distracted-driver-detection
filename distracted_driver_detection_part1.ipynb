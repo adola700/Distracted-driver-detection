{
  "nbformat": 4,
  "nbformat_minor": 5,
  "metadata": {
    "accelerator": "GPU",
    "colab": {
      "name": "distracted_driver_detection_part1.ipynb",
      "provenance": [],
      "collapsed_sections": [],
      "machine_shape": "hm"
    },
    "kernelspec": {
      "display_name": "Python 3",
      "name": "python3"
    },
    "language_info": {
      "name": "python"
    }
  },
  "cells": [
    {
      "cell_type": "code",
      "metadata": {
        "colab": {
          "base_uri": "https://localhost:8080/",
          "height": 35
        },
        "id": "dtTZTbVqsTIH",
        "outputId": "badb3884-6a9b-467d-88a9-c032d698481c"
      },
      "source": [
        "# Check if GPU is activated\n",
        "import tensorflow as tf\n",
        "tf.test.gpu_device_name() "
      ],
      "id": "dtTZTbVqsTIH",
      "execution_count": null,
      "outputs": [
        {
          "output_type": "execute_result",
          "data": {
            "application/vnd.google.colaboratory.intrinsic+json": {
              "type": "string"
            },
            "text/plain": [
              "'/device:GPU:0'"
            ]
          },
          "metadata": {
            "tags": []
          },
          "execution_count": 1
        }
      ]
    },
    {
      "cell_type": "markdown",
      "metadata": {
        "id": "26AU54EZFfJs"
      },
      "source": [
        "####Mounting gdrive"
      ],
      "id": "26AU54EZFfJs"
    },
    {
      "cell_type": "code",
      "metadata": {
        "colab": {
          "base_uri": "https://localhost:8080/"
        },
        "id": "eJXqAoqssm5T",
        "outputId": "cb4303d2-3238-4f5d-c2ae-b712db72fbad"
      },
      "source": [
        "from google.colab import drive\n",
        "drive.mount('/content/gdrive')"
      ],
      "id": "eJXqAoqssm5T",
      "execution_count": null,
      "outputs": [
        {
          "output_type": "stream",
          "text": [
            "Mounted at /content/gdrive\n"
          ],
          "name": "stdout"
        }
      ]
    },
    {
      "cell_type": "markdown",
      "metadata": {
        "id": "dPAbGd_5Fruv"
      },
      "source": [
        "##Reading the kaggle dataset"
      ],
      "id": "dPAbGd_5Fruv"
    },
    {
      "cell_type": "code",
      "metadata": {
        "colab": {
          "base_uri": "https://localhost:8080/",
          "height": 35
        },
        "id": "A468ix-CB8G2",
        "outputId": "5ef10294-2bf8-4e83-c4ca-1bbe487b5a1f"
      },
      "source": [
        "import shutil\n",
        "shutil.copy(\"/content/gdrive/MyDrive/project/state-farm-distracted-driver-detection.zip\",\"/content/state-farm-distracted-driver-detection.zip\")"
      ],
      "id": "A468ix-CB8G2",
      "execution_count": null,
      "outputs": [
        {
          "output_type": "execute_result",
          "data": {
            "application/vnd.google.colaboratory.intrinsic+json": {
              "type": "string"
            },
            "text/plain": [
              "'/content/state-farm-distracted-driver-detection.zip'"
            ]
          },
          "metadata": {
            "tags": []
          },
          "execution_count": 5
        }
      ]
    },
    {
      "cell_type": "code",
      "metadata": {
        "id": "ZK8QNATlChrY"
      },
      "source": [
        "! unzip state-farm-distracted-driver-detection.zip -d state-farm-distracted-driver-detection"
      ],
      "id": "ZK8QNATlChrY",
      "execution_count": null,
      "outputs": []
    },
    {
      "cell_type": "markdown",
      "metadata": {
        "id": "_1xjaGSnF9_-"
      },
      "source": [
        "##Image Preprocessing"
      ],
      "id": "_1xjaGSnF9_-"
    },
    {
      "cell_type": "code",
      "metadata": {
        "id": "oG3UIFkTDAmw",
        "colab": {
          "base_uri": "https://localhost:8080/"
        },
        "cellView": "code",
        "outputId": "c5dc091a-9932-42f6-d3ad-d1cba3ef9dce"
      },
      "source": [
        "#@title\n",
        "#@title\n",
        "import os\n",
        "from numpy import *\n",
        "from numpy import expand_dims\n",
        "import matplotlib.pyplot as plt\n",
        "import matplotlib.image as mpimg\n",
        "import cv2\n",
        "import pandas as pd\n",
        "\n",
        "!pip install pickle5\n",
        "import pickle5 as pickle\n",
        "set_printoptions(threshold=inf)\n",
        "\n",
        "def preprocessing(image_path):\n",
        "  global final_dataframe\n",
        "  try:\n",
        "    img = cv2.imread(image_path)\n",
        "  except IOError:\n",
        "    print(\"image could not be found\")\n",
        "\n",
        "  # height, width = img.shape\n",
        "\n",
        "  height = 40\n",
        "  width = 30\n",
        "  img = cv2.resize(img, (height, width), interpolation=cv2.INTER_LINEAR)\n",
        "  img = cv2.cvtColor(img, cv2.COLOR_BGR2RGB)\n",
        "\n",
        "  # img = cv2.imread(img)\n",
        "  #img = color.rgb2gray(img)\n",
        "  img = img.flatten()\n",
        "  image_person, image_class = find_person(image_path)\n",
        "  final_dataframe = final_dataframe.append({'Image_name': image_path.split(\"/\")[-1], \n",
        "                                            \"Person\": image_person, \n",
        "                                            \"Vector\": img, \n",
        "                                            \"Class\": image_class}\n",
        "                                            ,ignore_index=True)\n",
        "   \n",
        "def find_person(image_path):\n",
        "  global driver_imgs_list\n",
        "  image_name = image_path.split(\"/\")[-1]\n",
        "  if(image_name.count('_') > 1):\n",
        "    temp = image_name.split('_')\n",
        "    image_name = temp[0] + '_' + temp[1] + '.jpg'\n",
        "  person_details = driver_imgs_list.loc[driver_imgs_list[\"img\"] == image_name]\n",
        "  image_person = person_details[\"subject\"].values[0]\n",
        "  image_class = person_details[\"classname\"].values[0][1:]\n",
        "  return (image_person, image_class)\n",
        "\n",
        "def start_processing(c, directory_path):\n",
        "  final_path = directory_path +\"/\" +c\n",
        "  with os.scandir(final_path) as entries:\n",
        "      for entry in entries:\n",
        "          path = final_path + '/' + entry.name\n",
        "          preprocessing(path)\n",
        "         \n",
        "  print(c + 'is done')\n",
        "\n",
        "driver_imgs_list = pd.read_csv('/content/state-farm-distracted-driver-detection/driver_imgs_list.csv')\n",
        "final_dataframe = pd.DataFrame(columns=['Image_name', 'Person', 'Vector', 'Class'])\n",
        "\n",
        "directories =  '/content/state-farm-distracted-driver-detection/imgs/train'\n",
        "classes = ['c0', 'c1', 'c2', 'c3', 'c4', 'c5', 'c6', 'c7', 'c8', 'c9']\n",
        "(224,224,3)\n",
        "for c in classes:\n",
        "  start_processing(c,directories)\n",
        "\n",
        "pickle_dataframe = final_dataframe\n",
        "# suma = zeros(12288, dtype=float)\n",
        "# for i in pickle_dataframe['Vector']:\n",
        "#     suma += i\n",
        "# mean = (suma/pickle_dataframe.shape[0])\n",
        "# pickle_dataframe['Vector'] = pickle_dataframe['Vector'].apply(lambda x: x-mean)\n",
        "pickle_dataframe.to_pickle(\"/content/gdrive/MyDrive/project/knn_val.pkl\")"
      ],
      "id": "oG3UIFkTDAmw",
      "execution_count": null,
      "outputs": [
        {
          "output_type": "stream",
          "text": [
            "Requirement already satisfied: pickle5 in /usr/local/lib/python3.7/dist-packages (0.0.11)\n",
            "c0is done\n",
            "c1is done\n",
            "c2is done\n",
            "c3is done\n",
            "c4is done\n",
            "c5is done\n",
            "c6is done\n",
            "c7is done\n",
            "c8is done\n",
            "c9is done\n"
          ],
          "name": "stdout"
        }
      ]
    },
    {
      "cell_type": "markdown",
      "metadata": {
        "id": "sovhQWZVcv6d"
      },
      "source": [
        "#Testing"
      ],
      "id": "sovhQWZVcv6d"
    },
    {
      "cell_type": "code",
      "metadata": {
        "id": "A76QRpZrc0zT",
        "cellView": "code"
      },
      "source": [
        "#@title Test Data\n",
        "import os\n",
        "from numpy import *\n",
        "from numpy import expand_dims\n",
        "import matplotlib.pyplot as plt\n",
        "import matplotlib.image as mpimg\n",
        "import cv2\n",
        "import pandas as pd\n",
        "\n",
        "set_printoptions(threshold=inf)\n",
        "\n",
        "def preprocessing1(image_path):\n",
        "    global test_dataframe\n",
        "    try:\n",
        "        img = cv2.imread(image_path)\n",
        "    except IOError:\n",
        "        print(\"image could not be found\")\n",
        "\n",
        "    height, width, columns = img.shape\n",
        "\n",
        "    height = 40\n",
        "    width = 30\n",
        "    img = cv2.resize(img, (height, width), interpolation=cv2.INTER_LINEAR)\n",
        "    img = cv2.cvtColor(img, cv2.COLOR_BGR2RGB)\n",
        "\n",
        "    img = img.flatten()\n",
        "    name = image_path.split(\"/\")[-1]\n",
        "    test_dataframe = test_dataframe.append({'Image_name': name, \n",
        "                                            \"Vector\": img}\n",
        "                                            ,ignore_index=True)\n",
        "    print(\"done printing for \", name)\n",
        "\n",
        "\n",
        "train_path = '/content/state-farm-distracted-driver-detection/imgs/test' \n",
        "test_dataframe = pd.DataFrame(columns=['Image_name', 'Vector'])\n",
        "\n",
        "with os.scandir(train_path) as entries:\n",
        "      for entry in entries:\n",
        "          path = train_path + '/' + entry.name\n",
        "          preprocessing1(path)"
      ],
      "id": "A76QRpZrc0zT",
      "execution_count": null,
      "outputs": []
    },
    {
      "cell_type": "code",
      "metadata": {
        "colab": {
          "base_uri": "https://localhost:8080/"
        },
        "id": "FrK3McvnwL2H",
        "outputId": "bcae62af-39e6-4d3a-f255-fb64c2905e83"
      },
      "source": [
        "!pip install pickle5\n",
        "import pickle5 \n",
        "test_dataframe.to_pickle(\"/content/gdrive/MyDrive/project/knn_test.pkl\")"
      ],
      "id": "FrK3McvnwL2H",
      "execution_count": null,
      "outputs": [
        {
          "output_type": "stream",
          "text": [
            "Requirement already satisfied: pickle5 in /usr/local/lib/python3.7/dist-packages (0.0.11)\n"
          ],
          "name": "stdout"
        }
      ]
    },
    {
      "cell_type": "code",
      "metadata": {
        "id": "0RrAFHoS0aLK"
      },
      "source": [
        "import pandas as pd\n",
        "test_data1 = pd.read_pickle('/content/gdrive/MyDrive/project/test_data.pkl')\n",
        "test_data=test_data1.to_numpy()"
      ],
      "id": "0RrAFHoS0aLK",
      "execution_count": null,
      "outputs": []
    },
    {
      "cell_type": "code",
      "metadata": {
        "id": "aueTxuC90-bC",
        "colab": {
          "base_uri": "https://localhost:8080/"
        },
        "outputId": "92067917-b244-4a03-dbbd-ff92681ee00a"
      },
      "source": [
        "image_names=test_data[:,0]\n",
        "vectors=test_data[:,1]\n",
        "X_test=array([vectors[i].reshape(128,128,3) for i in range(len(vectors))])\n",
        "X_test=X_test.transpose(3, 0, 1, 2)"
      ],
      "id": "aueTxuC90-bC",
      "execution_count": null,
      "outputs": [
        {
          "output_type": "execute_result",
          "data": {
            "text/plain": [
              "(79726, 128, 128, 3)"
            ]
          },
          "metadata": {
            "tags": []
          },
          "execution_count": 21
        }
      ]
    },
    {
      "cell_type": "code",
      "metadata": {
        "colab": {
          "base_uri": "https://localhost:8080/"
        },
        "id": "NtP4gga7kFLm",
        "outputId": "76550b04-4874-4ba0-cdfe-e20fdb209146"
      },
      "source": [
        "X_test.shape"
      ],
      "id": "NtP4gga7kFLm",
      "execution_count": null,
      "outputs": [
        {
          "output_type": "execute_result",
          "data": {
            "text/plain": [
              "(3, 79726, 128, 128)"
            ]
          },
          "metadata": {
            "tags": []
          },
          "execution_count": 20
        }
      ]
    },
    {
      "cell_type": "code",
      "metadata": {
        "id": "RJ96CT1W2joE"
      },
      "source": [
        "plt.imshow(X_test[10])\n",
        "plt.axis('off')"
      ],
      "id": "RJ96CT1W2joE",
      "execution_count": null,
      "outputs": []
    },
    {
      "cell_type": "markdown",
      "metadata": {
        "id": "AZK9oy4KQbIh"
      },
      "source": [
        "##Data Visualization"
      ],
      "id": "AZK9oy4KQbIh"
    },
    {
      "cell_type": "code",
      "metadata": {
        "id": "J-tFUlf13wO_"
      },
      "source": [
        "import os\n",
        "from numpy import *\n",
        "from numpy import expand_dims\n",
        "import matplotlib.pyplot as plt\n",
        "import matplotlib.image as mpimg\n",
        "import cv2\n",
        "import pandas as pd\n",
        "data = pd.read_pickle('/content/gdrive/MyDrive/project/3_channel_128.pkl')\n",
        "# data = pd.read_pickle('/content/gdrive/MyDrive/project/last_not_mean_centred.pkl')\n",
        "\n",
        "# data = pd.read_pickle('/content/gdrive/MyDrive/project/final.pkl')\n",
        "\n",
        "data1=data.to_numpy()\n",
        "persons=data1[:,1]\n",
        "values, counts = unique(persons, return_counts=True) # returns unique values in persons and their respective \n",
        "# frequency of occurence\n",
        "for i in range(data1.shape[0]):\n",
        "    data1[i][3]=int(data1[i][3]) "
      ],
      "id": "J-tFUlf13wO_",
      "execution_count": null,
      "outputs": []
    },
    {
      "cell_type": "code",
      "metadata": {
        "colab": {
          "base_uri": "https://localhost:8080/"
        },
        "id": "executed-standard",
        "outputId": "cba3b030-f184-4ef1-a9bd-a8a86748eec9"
      },
      "source": [
        "get_val_row_indices=where(persons=='p050')[0]\n",
        "get_val_row_indices=append(get_val_row_indices,where(persons=='p015')[0])\n",
        "get_val_row_indices=append(get_val_row_indices,where(persons=='p022')[0])\n",
        "get_val_row_indices=append(get_val_row_indices,where(persons=='p056')[0])\n",
        "val_data=array([data1[i] for i in get_val_row_indices]) # val_data is the v0.000001alidation data\n",
        "\n",
        "# Ensuring that the validation data is randomly shuffed\n",
        "random.shuffle(val_data)\n",
        "# get_train_row_indices= where((persons!= 'p045') & (persons!='p072') & (persons!='p066') & (persons!='p035') & (persons!='p039') & (persons!='p041') )[0]\n",
        "get_train_row_indices= where((persons!= 'p050') & (persons!='p015')  & (persons!='p022') & (persons!='p056') )[0]\n",
        "\n",
        "print(len(get_train_row_indices),len(val_data))\n",
        "train_data=array([data1[i] for i in get_train_row_indices]) # train_data is the training data\n",
        "# Ensuring that the train data is randomly shuffed many times so as to make the training easier\n",
        "random.shuffle(train_data)\n"
      ],
      "id": "executed-standard",
      "execution_count": null,
      "outputs": [
        {
          "output_type": "stream",
          "text": [
            "18732 3692\n"
          ],
          "name": "stdout"
        }
      ]
    },
    {
      "cell_type": "code",
      "metadata": {
        "id": "zwpCCdL6_bwj",
        "cellView": "form"
      },
      "source": [
        "#@title\n",
        "import seaborn as sns\n",
        "dataset = pd.read_csv('/content/gdrive/MyDrive/project/driver_imgs_list.csv')\n",
        "# npdataset = dataset.to_numpy()\n",
        "# persons1=npdataset[:,1]\n",
        "values1=array(['p050', 'p015', 'p022', 'p056'])\n",
        "# Plot figure size\n",
        "plt.figure(figsize = (5,5))\n",
        "for i in range(len(values1)):\n",
        "  df=dataset.loc[dataset['subject'] == values1[i] ]\n",
        "  if i!=0:\n",
        "    frames = [df1, df]\n",
        "    df = pd.concat(frames)\n",
        "  df1=df\n",
        "# Count the number of images per category\n",
        "sns.countplot(x = 'classname', data =df)\n",
        "# Change the Axis names\n",
        "plt.ylabel('Count')\n",
        "plt.title('Categories Distribution of Validation data')\n",
        "# Show plot\n",
        "plt.show()\n",
        "print(df)\n",
        "\n",
        "values1=array(['p002','p012','p014', 'p016', 'p021', 'p024',\n",
        "       'p026','p035','p039','p041', 'p042', 'p045', 'p047', 'p049','p051',\n",
        "       'p052', 'p061', 'p066', 'p064','p072',\n",
        "       'p075', 'p081'], dtype=object)\n",
        "# Plot figure size\n",
        "plt.figure(figsize = (5,5))\n",
        "for i in range(len(values1)):\n",
        "  df=dataset.loc[dataset['subject'] == values1[i] ]\n",
        "  if i!=0:\n",
        "    frames = [df1, df]\n",
        "    df = pd.concat(frames)\n",
        "  df1=df\n",
        "# Count the number of images per category\n",
        "sns.countplot(x = 'classname', data =df)\n",
        "# Change the Axis names\n",
        "plt.ylabel('Count')\n",
        "plt.title('Categories Distribution of Train data')\n",
        "# Show plot\n",
        "plt.show()\n",
        "print(df)"
      ],
      "id": "zwpCCdL6_bwj",
      "execution_count": null,
      "outputs": []
    },
    {
      "cell_type": "code",
      "metadata": {
        "id": "iDCYmpgEFz30"
      },
      "source": [
        "size = 128\n",
        "batch_size = 64\n",
        "channels = 3"
      ],
      "id": "iDCYmpgEFz30",
      "execution_count": null,
      "outputs": []
    },
    {
      "cell_type": "code",
      "metadata": {
        "id": "KDBp84Tg4W_D",
        "colab": {
          "base_uri": "https://localhost:8080/",
          "height": 265
        },
        "cellView": "code",
        "outputId": "2349a58c-d099-479b-b65c-0bdadd246efb"
      },
      "source": [
        "#@title plotting image\n",
        "data2=array([int(data1[0][2][i]) for i in range(size*size*channels)])\n",
        "test_image=data2.reshape(size,size,channels)\n",
        "test_image = test_image[...,::-1] # Added\n",
        "plt.imshow(test_image)\n",
        "plt.axis('off')\n",
        "# data2=array([int(data1[0][2][i]*255) for i in range(size*size*channels)])\n",
        "# plt.imshow(data2.reshape(size,size), cmap=\"gray\")"
      ],
      "id": "KDBp84Tg4W_D",
      "execution_count": null,
      "outputs": [
        {
          "output_type": "execute_result",
          "data": {
            "text/plain": [
              "(-0.5, 127.5, 127.5, -0.5)"
            ]
          },
          "metadata": {
            "tags": []
          },
          "execution_count": 7
        },
        {
          "output_type": "display_data",
          "data": {
            "image/png": "[encoded data removed]",
            "text/plain": [
              "<Figure size 432x288 with 1 Axes>"
            ]
          },
          "metadata": {
            "tags": [],
            "needs_background": "light"
          }
        }
      ]
    },
    {
      "cell_type": "code",
      "metadata": {
        "id": "lesser-globe",
        "cellView": "code"
      },
      "source": [
        "#@title\n",
        "for i in range(len(counts)):\n",
        "  print(\"{} {}\".format(values[i],counts[i])) "
      ],
      "id": "lesser-globe",
      "execution_count": null,
      "outputs": []
    },
    {
      "cell_type": "code",
      "metadata": {
        "id": "iAEsW6ecXp5x",
        "cellView": "code"
      },
      "source": [
        "#@title\n",
        "import seaborn as sns\n",
        "dataset = pd.read_csv('/content/gdrive/MyDrive/project/driver_imgs_list.csv')\n",
        "npdataset = dataset.to_numpy()\n",
        "# Plot figure size\n",
        "plt.figure(figsize = (5,5))\n",
        "for driver in values:\n",
        "  new_data_set=dataset.loc[dataset['subject'] == driver]\n",
        "  # Count the number of images per category\n",
        "  sns.countplot(x = 'classname', data =new_data_set)\n",
        "  # Change the Axis names\n",
        "  plt.ylabel('Count')\n",
        "  plt.title('Categories Distribution for {}'.format(driver))\n",
        "  # Show plot\n",
        "  plt.show()"
      ],
      "id": "iAEsW6ecXp5x",
      "execution_count": null,
      "outputs": []
    },
    {
      "cell_type": "code",
      "metadata": {
        "id": "OK2cqq67hh4R",
        "cellView": "code"
      },
      "source": [
        "#@title\n",
        "plt.figure(figsize = (5,5))\n",
        "# Count the number of images per category\n",
        "sns.countplot(x = 'classname', data =dataset)\n",
        "# Change the Axis names\n",
        "plt.ylabel('Count')\n",
        "\n",
        "plt.title('Categories Distribution')\n",
        "# Show plot\n",
        "plt.show()\n",
        "\n",
        "\n",
        "# Epoch 00011: val_loss improved from 1.16446 to 1.08469, saving model to model1.h5\n",
        "# Epoch 12/25\n",
        "# 569/569 [==============================] - 5s 9ms/step - loss: 0.0286 - accuracy: 0.9926 - val_loss: 1.1445 - val_accuracy: 0.7804\n",
        "\n",
        "# Epoch 00012: val_loss did not improve from 1.08469\n",
        "# Epoch 13/25\n",
        "# 569/569 [==============================] - 5s 9ms/step - loss: 0.0138 - accuracy: 0.9959 - val_loss: 1.1746 - val_accuracy: 0.7811\n",
        "\n",
        "# Epoch 00013: val_loss did not improve from 1.08469\n",
        "# Epoch 14/25\n",
        "# 569/569 [==============================] - 5s 9ms/step - loss: 0.0180 - accuracy: 0.9949 - val_loss: 1.1269 - val_accuracy: 0.8020\n",
        "# 99 - accuracy: 0.9888 - val_loss: 1.0847 - val_accuracy: 0.7906\n"
      ],
      "id": "OK2cqq67hh4R",
      "execution_count": null,
      "outputs": []
    },
    {
      "cell_type": "markdown",
      "metadata": {
        "id": "4pC-affORuEK"
      },
      "source": [
        "\n",
        "##Splitting data to train and test without Data leakage\n",
        "\n",
        "\n"
      ],
      "id": "4pC-affORuEK"
    },
    {
      "cell_type": "code",
      "metadata": {
        "id": "alive-confirmation"
      },
      "source": [
        "# pip install np-utils\n",
        "from PIL import Image\n",
        "from IPython.display import display\n",
        "import matplotlib.pyplot as plt\n",
        "import seaborn as sns\n",
        "import tensorflow as tf\n",
        "import cv2\n",
        "from sklearn.model_selection import train_test_split\n",
        "import warnings\n",
        "warnings.filterwarnings(\"ignore\")\n",
        "import seaborn as sns\n",
        "import keras\n",
        "from keras.models import Sequential\n",
        "from keras.layers import Dense, Dropout, Flatten\n",
        "from keras.layers import Conv2D, MaxPooling2D, ZeroPadding2D, Convolution2D\n",
        "from keras.utils import np_utils\n",
        "from keras.preprocessing import image \n",
        "from keras.layers.normalization import BatchNormalization\n",
        "from keras import optimizers\n",
        "import h5py"
      ],
      "id": "alive-confirmation",
      "execution_count": null,
      "outputs": []
    },
    {
      "cell_type": "code",
      "metadata": {
        "id": "reflected-questionnaire"
      },
      "source": [
        "from keras.utils import np_utils\n",
        "# !pip install pickle5\n",
        "# import pickle5 as pickle\n",
        "X_train=train_data[:,2]\n",
        "X_train=array([X_train[i].reshape(size,size,channels)[...,::-1] for i in range(len(X_train))])\n",
        "# X_train=array([X_train[i].reshape(size,size,channels) for i in range(len(X_train))])\n",
        "\n",
        "y_train=train_data[:,3]  # The training class labels\n",
        "\n",
        "X_val=val_data[:,2]\n",
        "X_val=array([X_val[i].reshape(size,size,channels)[...,::-1] for i in range(len(X_val))])\n",
        "# X_val=array([X_val[i].reshape(size,size,channels) for i in range(len(X_val))])\n",
        "\n",
        "y_val=val_data[:,3]  # The validation class labels\n",
        "\n",
        "y_train = np_utils.to_categorical(y_train, 10)\n",
        "y_val = np_utils.to_categorical(y_val, 10)\n",
        "# filename = \"training.pkl\"\n",
        "# with open(filename, 'wb') as filehandler:\n",
        "#     pickle.dump(X_train, filehandler)"
      ],
      "id": "reflected-questionnaire",
      "execution_count": null,
      "outputs": []
    },
    {
      "cell_type": "code",
      "metadata": {
        "id": "vRntHGmpw3ja",
        "cellView": "code"
      },
      "source": [
        "#@title\n",
        "plt.imshow(X_train[108])\n",
        "plt.show()\n",
        "plt.imshow(X_val[108])\n",
        "plt.show()\n",
        "print(len(X_train),len(X_val))"
      ],
      "id": "vRntHGmpw3ja",
      "execution_count": null,
      "outputs": []
    },
    {
      "cell_type": "code",
      "metadata": {
        "id": "absent-memorial",
        "cellView": "code"
      },
      "source": [
        "#@title\n",
        "!pip3 install tensorflow-gpu"
      ],
      "id": "absent-memorial",
      "execution_count": null,
      "outputs": []
    },
    {
      "cell_type": "code",
      "metadata": {
        "id": "17d6gRwlQ-Iw",
        "cellView": "code"
      },
      "source": [
        "#@title\n",
        "!nvidia-smi"
      ],
      "id": "17d6gRwlQ-Iw",
      "execution_count": null,
      "outputs": []
    },
    {
      "cell_type": "markdown",
      "metadata": {
        "id": "inCEQL5VGgjZ"
      },
      "source": [
        "#### Plotting curves of VALIDATION and TRAIN accuracies and losses"
      ],
      "id": "inCEQL5VGgjZ"
    },
    {
      "cell_type": "code",
      "metadata": {
        "id": "pjCiAGw9ZyTS"
      },
      "source": [
        "def plot_train_history(history):\n",
        "    # Summarize history for accuracy\n",
        "    plt.plot(history.history['accuracy'])\n",
        "    plt.plot(history.history['val_accuracy'])\n",
        "    plt.title('Model accuracy')\n",
        "    plt.ylabel('accuracy')\n",
        "    plt.xlabel('epoch')\n",
        "    plt.legend(['train', 'val'])\n",
        "    plt.show()\n",
        "\n",
        "    # Summarize history for loss\n",
        "    plt.plot(history.history['loss'])\n",
        "    plt.plot(history.history['val_loss'])\n",
        "    plt.title('Model loss')\n",
        "    plt.ylabel('loss')\n",
        "    plt.xlabel('epoch')\n",
        "    plt.legend(['train', 'val'])\n",
        "    plt.show()\n",
        "# plot_train_history(history_v2)"
      ],
      "id": "pjCiAGw9ZyTS",
      "execution_count": null,
      "outputs": []
    },
    {
      "cell_type": "markdown",
      "metadata": {
        "id": "9_Ddx5dIW6BC"
      },
      "source": [
        "## Implementing Pre-Trained Models"
      ],
      "id": "9_Ddx5dIW6BC"
    },
    {
      "cell_type": "markdown",
      "metadata": {
        "id": "7peqMw1B2704"
      },
      "source": [
        "##VGG-16"
      ],
      "id": "7peqMw1B2704"
    },
    {
      "cell_type": "code",
      "metadata": {
        "id": "ta-syEJ9lWUg"
      },
      "source": [
        "from keras.applications.vgg16 import preprocess_input\n",
        "import pandas as pd                        \n",
        "X_val1=preprocess_input(X_val)"
      ],
      "id": "ta-syEJ9lWUg",
      "execution_count": null,
      "outputs": []
    },
    {
      "cell_type": "code",
      "metadata": {
        "colab": {
          "base_uri": "https://localhost:8080/",
          "height": 35
        },
        "id": "1M7_GV2RbXSS",
        "outputId": "907d4369-6d32-4e52-a645-bdb95f6d87a3"
      },
      "source": [
        "import shutil\n",
        "shutil.copy(\"/content/knn_val.pkl\",\"/content/gdrive/MyDrive/project/knn_val.pkl\")"
      ],
      "id": "1M7_GV2RbXSS",
      "execution_count": null,
      "outputs": [
        {
          "output_type": "execute_result",
          "data": {
            "application/vnd.google.colaboratory.intrinsic+json": {
              "type": "string"
            },
            "text/plain": [
              "'/content/gdrive/MyDrive/project/knn_val.pkl'"
            ]
          },
          "metadata": {
            "tags": []
          },
          "execution_count": 10
        }
      ]
    },
    {
      "cell_type": "code",
      "metadata": {
        "id": "f30vRhRK4JLY",
        "cellView": "code"
      },
      "source": [
        "#@title 0.43 log loss\n",
        "\n",
        "from keras.layers import Input, Lambda, Dense, Flatten\n",
        "from keras.models import Model\n",
        "from keras.applications.vgg16 import VGG16\n",
        "from keras.applications.vgg16 import preprocess_input\n",
        "from keras.preprocessing import image\n",
        "from keras.preprocessing.image import ImageDataGenerator\n",
        "from keras.models import Sequential\n",
        "\n",
        "# re-size all the images to this\n",
        "# add preprocessing layer to the front of VGG\n",
        "vgg16_input = Input(shape = (size,size,channels))\n",
        "\n",
        "vgg = VGG16(input_tensor=vgg16_input, weights='imagenet', include_top=False)\n",
        "\n",
        "for layer in vgg.layers:\n",
        "\tlayer.trainable = False\n",
        "\n",
        "train_datagen=ImageDataGenerator(brightness_range=[0.7,1.3],shear_range=10,\n",
        "                                    zoom_range=0.3, rotation_range=10, \n",
        "                                    width_shift_range=0.1,height_shift_range=0.1,\n",
        "                                     preprocessing_function=preprocess_input,\n",
        "                                )\n",
        "\n",
        "\n",
        "train_generator = train_datagen.flow(\n",
        "    X_train,\n",
        "    y_train,\n",
        "    batch_size=batch_size\n",
        ")\n",
        "\n",
        "x = vgg(vgg16_input)\n",
        "x = Flatten()(x)\n",
        "x = Dropout(0.3)(x)\n",
        "x = Dense(512, activation='relu')(x)\n",
        "x = Dropout(0.6)(x)\n",
        "x = Dense(128, activation='relu')(x)\n",
        "prediction = Dense(10, activation='softmax')(x)\n",
        "\n",
        "# create a model object\n",
        "model = Model(inputs = vgg16_input, outputs = prediction )\n",
        "\n",
        "# our layers - you can add more if you want\n",
        "# x = Flatten()(vgg.output)\n",
        "\n",
        "# tell the model what cost and optimization method to use\n",
        "model.compile(\n",
        "  loss='categorical_crossentropy',\n",
        "  optimizer=optimizers.SGD(learning_rate=1e-2, momentum=0.9),\n",
        "  metrics=['accuracy']\n",
        ")\n",
        "\n",
        "model.summary()\n",
        "from keras.callbacks import EarlyStopping, ModelCheckpoint, ReduceLROnPlateau\n",
        "\n",
        "callbacks = [\n",
        "    EarlyStopping(patience=9, verbose=1),\n",
        "    ReduceLROnPlateau(factor=0.1, patience=3, min_lr=1e-9, verbose=1),\n",
        "    ModelCheckpoint('vgg_finetune.h5', verbose=1, save_best_only=True, save_weights_only=True) ]"
      ],
      "id": "f30vRhRK4JLY",
      "execution_count": null,
      "outputs": []
    },
    {
      "cell_type": "code",
      "metadata": {
        "id": "rbtNmY9qN4fv"
      },
      "source": [
        "model.load_weights('/content/gdrive/MyDrive/project/vgg_0.36__preproccessed_loss.h5')"
      ],
      "id": "rbtNmY9qN4fv",
      "execution_count": null,
      "outputs": []
    },
    {
      "cell_type": "code",
      "metadata": {
        "id": "surRIYJ3OK_I"
      },
      "source": [
        "for layer in vgg.layers:\n",
        "\tlayer.trainable = True\n",
        "for layer in vgg.layers:\n",
        "\tprint(\"{}: {}\".format(layer, layer.trainable))"
      ],
      "id": "surRIYJ3OK_I",
      "execution_count": null,
      "outputs": []
    },
    {
      "cell_type": "code",
      "metadata": {
        "id": "54WtF59pWT7h"
      },
      "source": [
        "train_datagen=ImageDataGenerator(brightness_range=[0.8,1.2],\n",
        "                                    zoom_range=0.3, rotation_range=20, \n",
        "                                    width_shift_range=0.1,height_shift_range=0.1,\n",
        "                                     preprocessing_function=preprocess_input,\n",
        "                                )\n",
        "\n",
        "train_generator = train_datagen.flow(\n",
        "    X_train,\n",
        "    y_train,\n",
        "    batch_size=batch_size)\n",
        "\n",
        "\n",
        "model.summary()"
      ],
      "id": "54WtF59pWT7h",
      "execution_count": null,
      "outputs": []
    },
    {
      "cell_type": "code",
      "metadata": {
        "id": "MH1ymLSZWUxT"
      },
      "source": [
        "model.compile(\n",
        "  loss='categorical_crossentropy',\n",
        "  optimizer=optimizers.Adagrad(learning_rate=2e-4,decay=1e-3/10),\n",
        "  metrics=['accuracy']\n",
        ")\n",
        "\n",
        "a = model.fit(\n",
        "  train_generator,\n",
        "  steps_per_epoch=len(X_train) // batch_size, \n",
        "  validation_data=(X_val1,y_val),\n",
        "  epochs=25,callbacks=callbacks )   "
      ],
      "id": "MH1ymLSZWUxT",
      "execution_count": null,
      "outputs": []
    },
    {
      "cell_type": "code",
      "metadata": {
        "id": "YIKobgUsRL64",
        "colab": {
          "base_uri": "https://localhost:8080/"
        },
        "outputId": "ccf5eed0-d2ae-4eee-a6b8-40ad86cc60f9"
      },
      "source": [
        "model.load_weights('vgg3.h5')\n",
        "from sklearn.metrics import log_loss\n",
        "predictions_valid = model.predict(X_val1, batch_size=batch_size, verbose=1)\n",
        "score = log_loss(y_val, predictions_valid)\n",
        "print('Score log_loss: ', score)"
      ],
      "id": "YIKobgUsRL64",
      "execution_count": null,
      "outputs": [
        {
          "output_type": "stream",
          "text": [
            "58/58 [==============================] - 3s 38ms/step\n",
            "Score log_loss:  0.43483777281079666\n"
          ],
          "name": "stdout"
        }
      ]
    },
    {
      "cell_type": "code",
      "metadata": {
        "id": "QG5gr2KWYBy1"
      },
      "source": [
        "plot_train_history(a)"
      ],
      "id": "QG5gr2KWYBy1",
      "execution_count": null,
      "outputs": []
    },
    {
      "cell_type": "markdown",
      "metadata": {
        "id": "O1qAnQq4C2m4"
      },
      "source": [
        "# Resnet"
      ],
      "id": "O1qAnQq4C2m4"
    },
    {
      "cell_type": "code",
      "metadata": {
        "id": "_6lsUAoO8lck"
      },
      "source": [
        "!pip install resnet"
      ],
      "id": "_6lsUAoO8lck",
      "execution_count": null,
      "outputs": []
    },
    {
      "cell_type": "code",
      "metadata": {
        "id": "aY0jTyMLZV1I"
      },
      "source": [
        "!pip install Keras-Applications"
      ],
      "id": "aY0jTyMLZV1I",
      "execution_count": null,
      "outputs": []
    },
    {
      "cell_type": "code",
      "metadata": {
        "id": "_VUENFruC0Fl"
      },
      "source": [
        "from tensorflow.keras.preprocessing.image import ImageDataGenerator\n",
        "from tensorflow.keras.layers import AveragePooling2D\n",
        "from tensorflow.keras.layers import Dropout\n",
        "from tensorflow.keras.layers import Flatten\n",
        "from tensorflow.keras.layers import Dense\n",
        "from tensorflow.keras.layers import Input\n",
        "from tensorflow.keras.models import Model\n",
        "from tensorflow.keras.optimizers import Adam\n",
        "from tensorflow.keras.applications import ResNet50\n",
        "from keras.applications.resnet50 import preprocess_input\n",
        "\n",
        "\n",
        "X_train1=preprocess_input(X_train)\n",
        "X_val1=preprocess_input(X_val)"
      ],
      "id": "_VUENFruC0Fl",
      "execution_count": null,
      "outputs": []
    },
    {
      "cell_type": "code",
      "metadata": {
        "id": "qNgtHgw4vpeo"
      },
      "source": [
        "baseModel = ResNet50(weights=\"imagenet\", include_top=False, input_tensor=Input(shape=(128, 128, 3)))\n",
        "baseModel.summary()\n",
        "# construct the head of the model that will be placed on top of the\n",
        "# the base model\n",
        "headModel = baseModel.output\n",
        "headModel = AveragePooling2D(pool_size=(4, 4))(headModel)\n",
        "headModel = Flatten(name=\"flatten\")(headModel)\n",
        "headModel = Dense(512, activation=\"relu\")(headModel)\n",
        "headModel = Dropout(0.5)(headModel)\n",
        "headModel = Dense(128, activation=\"relu\")(headModel)\n",
        "headModel = Dropout(0.5)(headModel)\n",
        "headModel = Dense(10, activation=\"softmax\")(headModel)\n",
        "# # place the head FC model on top of the base model (this will become\n",
        "# # the actual model we will train)\n",
        "model = Model(inputs=baseModel.input, outputs=headModel)\n",
        "# # loop over all layers in the base model and freeze them so they will\n",
        "# # *not* be updated during the training process\n",
        "\n",
        "# for layer in baseModel.layers:\n",
        "# \tlayer.trainable = False\n",
        "model.summary()"
      ],
      "id": "qNgtHgw4vpeo",
      "execution_count": null,
      "outputs": []
    },
    {
      "cell_type": "code",
      "metadata": {
        "id": "RvcQz7lPFRVU"
      },
      "source": [
        "batch_size=32\n",
        "train_datagen=ImageDataGenerator(brightness_range=[0.4,1.6],shear_range=10,\n",
        "                                    zoom_range=0.5, rotation_range=20, \n",
        "                                    width_shift_range=0.25,height_shift_range=0.25,\n",
        "                                     preprocessing_function=preprocess_input,\n",
        "                                )\n",
        "\n",
        "train_generator = train_datagen.flow(\n",
        "    X_train,\n",
        "    y_train,\n",
        "    batch_size=batch_size\n",
        ")\n",
        "\n",
        "from keras.callbacks import EarlyStopping, ModelCheckpoint, ReduceLROnPlateau\n",
        "\n",
        "callbacks = [\n",
        "    EarlyStopping(patience=10, verbose=1),\n",
        "    ReduceLROnPlateau(factor=0.1, patience=3, min_lr=0.000001, verbose=1),\n",
        "    ModelCheckpoint('resnet1.h5', verbose=1, save_best_only=True, save_weights_only=True) ]\n",
        "for layer in baseModel.layers:\n",
        "\tlayer.trainable = True\n",
        "\n"
      ],
      "id": "RvcQz7lPFRVU",
      "execution_count": null,
      "outputs": []
    },
    {
      "cell_type": "code",
      "metadata": {
        "id": "7-wbB-yhKQv6"
      },
      "source": [
        "for layer in baseModel.layers:\n",
        "\tlayer.trainable = True\n",
        "# for layer in baseModel.layers:\n",
        "\t# print(\"{}: {}\".format(layer, layer.trainable))\n",
        "\n",
        "model.compile(\n",
        "  loss='categorical_crossentropy',\n",
        "  optimizer=optimizers.Adadelta(learning_rate=0.002) ,\n",
        "  metrics=['accuracy']\n",
        ")\n",
        "model.summary()"
      ],
      "id": "7-wbB-yhKQv6",
      "execution_count": null,
      "outputs": []
    },
    {
      "cell_type": "code",
      "metadata": {
        "id": "jqWIPTWxVsKX"
      },
      "source": [
        "# train the model\n",
        "H = model.fit(\n",
        "\ttrain_generator,\n",
        "\tsteps_per_epoch=len(X_train1) // batch_size,\n",
        "\tvalidation_data=(X_val1,y_val),epochs=30, callbacks=callbacks)"
      ],
      "id": "jqWIPTWxVsKX",
      "execution_count": null,
      "outputs": []
    },
    {
      "cell_type": "markdown",
      "metadata": {
        "id": "zs7gYPQcOVwN"
      },
      "source": [
        "# MobileNet"
      ],
      "id": "zs7gYPQcOVwN"
    },
    {
      "cell_type": "code",
      "metadata": {
        "id": "16J6XA0HOahR"
      },
      "source": [
        "from tensorflow.keras.preprocessing.image import ImageDataGenerator\n",
        "from tensorflow.keras.layers import AveragePooling2D\n",
        "from tensorflow.keras.layers import Dropout\n",
        "from tensorflow.keras.layers import Flatten\n",
        "from tensorflow.keras.layers import Dense\n",
        "from tensorflow.keras.layers import Input\n",
        "from tensorflow.keras.models import Model\n",
        "from tensorflow.keras.optimizers import Adam\n",
        "from tensorflow.keras.applications import MobileNet\n",
        "from tensorflow.keras.applications.mobilenet import  preprocess_input\n",
        "from keras.preprocessing.image import ImageDataGenerator\n",
        "from keras.models import Sequential\n",
        "\n",
        "X_train1=preprocess_input(X_train)\n",
        "X_val1=preprocess_input(X_val)"
      ],
      "id": "16J6XA0HOahR",
      "execution_count": null,
      "outputs": []
    },
    {
      "cell_type": "code",
      "metadata": {
        "id": "gpfUuF-v780l"
      },
      "source": [
        "baseModel = MobileNet(weights=\"imagenet\", include_top=False, input_shape=(128, 128, 3) )\n",
        "baseModel.summary()\n",
        "# construct the head of the model that will be placed on top of the\n",
        "# the base model\n",
        "headModel = baseModel.output\n",
        "headModel = AveragePooling2D(pool_size=(4, 4))(headModel)\n",
        "headModel = Flatten()(headModel)\n",
        "headModel = Dense(256, activation=\"relu\")(headModel)\n",
        "headModel = Dropout(0.5)(headModel)\n",
        "headModel = Dense(256, activation=\"relu\")(headModel)\n",
        "headModel = Dropout(0.5)(headModel)\n",
        "headModel = Dense(10, activation=\"softmax\")(headModel)\n",
        "# # place the head FC model on top of the base model (this will become\n",
        "# # the actual model we will train)\n",
        "model = Model(inputs=baseModel.input, outputs=headModel)\n",
        "# # loop over all layers in the base model and freeze them so they will\n",
        "# # *not* be updated during the training process\n",
        "\n",
        "for layer in baseModel.layers:\n",
        "\tlayer.trainable = True\n",
        "\n",
        "# for layer in baseModel.layers:\n",
        "\t# print(\"{}: {}\".format(layer, layer.trainable))\n",
        "\n",
        "model.compile(\n",
        "  loss='categorical_crossentropy',\n",
        "  optimizer=optimizers.SGD(learning_rate=0.001) ,\n",
        "  metrics=['accuracy']\n",
        ")\n",
        "model.summary()"
      ],
      "id": "gpfUuF-v780l",
      "execution_count": null,
      "outputs": []
    },
    {
      "cell_type": "code",
      "metadata": {
        "id": "ujlnVakQSIAO"
      },
      "source": [
        "model.load_weights(\"/content/gdrive/MyDrive/project/mobilenet_0.398_loss_preprocessed.h5\")"
      ],
      "id": "ujlnVakQSIAO",
      "execution_count": null,
      "outputs": []
    },
    {
      "cell_type": "code",
      "metadata": {
        "id": "hNDnJ-ke7801"
      },
      "source": [
        "for layer in baseModel.layers:\n",
        "\tlayer.trainable = True\n",
        "batch_size=64\n",
        "train_datagen=ImageDataGenerator(brightness_range=[0.4,1.6],shear_range=10,\n",
        "                                    zoom_range=0.5, rotation_range=20, \n",
        "                                    width_shift_range=0.25,height_shift_range=0.25,\n",
        "                                     preprocessing_function=preprocess_input,\n",
        "                                )\n",
        "\n",
        "train_generator = train_datagen.flow(\n",
        "    X_train,\n",
        "    y_train,\n",
        "    batch_size=batch_size\n",
        ")\n",
        "\n",
        "from keras.callbacks import EarlyStopping, ModelCheckpoint, ReduceLROnPlateau\n",
        "\n",
        "callbacks = [\n",
        "    EarlyStopping(patience=10, verbose=1),\n",
        "    ReduceLROnPlateau(factor=0.1, patience=3, min_lr=0.000001, verbose=1),\n",
        "    ModelCheckpoint('mobilenet2.h5', verbose=1, save_best_only=True, save_weights_only=True) ]\n"
      ],
      "id": "hNDnJ-ke7801",
      "execution_count": null,
      "outputs": []
    },
    {
      "cell_type": "code",
      "metadata": {
        "id": "weZpcQ9dR0ru"
      },
      "source": [
        "import shutil\n",
        "shutil.copy(\"/content/mobilenet2.h5\",\"/content/gdrive/MyDrive/project/mobilenet_0.3407_loss_preprocessed.h5\")"
      ],
      "id": "weZpcQ9dR0ru",
      "execution_count": null,
      "outputs": []
    },
    {
      "cell_type": "code",
      "metadata": {
        "id": "OWMGyFSPZ1at"
      },
      "source": [
        "model.load_weights(\"mobilenet2.h5\")\n",
        "model.compile(\n",
        "  loss='categorical_crossentropy',\n",
        "  optimizer=optimizers.Adagrad(learning_rate=0.0001) ,\n",
        "  metrics=['accuracy']\n",
        ")"
      ],
      "id": "OWMGyFSPZ1at",
      "execution_count": null,
      "outputs": []
    },
    {
      "cell_type": "code",
      "metadata": {
        "colab": {
          "base_uri": "https://localhost:8080/",
          "height": 601
        },
        "id": "Y0D8zTI77801",
        "outputId": "1b98ce00-3eba-4789-9243-079d47a3e181"
      },
      "source": [
        "# train the model\n",
        "H = model.fit(\n",
        "\ttrain_generator,\n",
        "\tsteps_per_epoch=len(X_train1) // batch_size,\n",
        "\tvalidation_data=(X_val1,y_val),epochs=30, callbacks=callbacks)"
      ],
      "id": "Y0D8zTI77801",
      "execution_count": null,
      "outputs": [
        {
          "output_type": "stream",
          "text": [
            "Epoch 1/30\n",
            "292/292 [==============================] - 93s 308ms/step - loss: 0.1492 - accuracy: 0.9545 - val_loss: 0.3418 - val_accuracy: 0.9049\n",
            "\n",
            "Epoch 00001: val_loss did not improve from 0.34047\n",
            "Epoch 2/30\n",
            "292/292 [==============================] - 89s 305ms/step - loss: 0.1450 - accuracy: 0.9563 - val_loss: 0.3781 - val_accuracy: 0.8976\n",
            "\n",
            "Epoch 00002: val_loss did not improve from 0.34047\n",
            "Epoch 3/30\n",
            "292/292 [==============================] - 89s 305ms/step - loss: 0.1425 - accuracy: 0.9580 - val_loss: 0.3576 - val_accuracy: 0.8984\n",
            "\n",
            "Epoch 00003: val_loss did not improve from 0.34047\n",
            "Epoch 4/30\n",
            " 10/292 [>.............................] - ETA: 1:24 - loss: 0.1336 - accuracy: 0.9625"
          ],
          "name": "stdout"
        },
        {
          "output_type": "error",
          "ename": "KeyboardInterrupt",
          "evalue": "ignored",
          "traceback": [
            "\u001b[0;31m---------------------------------------------------------------------------\u001b[0m",
            "\u001b[0;31mKeyboardInterrupt\u001b[0m                         Traceback (most recent call last)",
            "\u001b[0;32m<ipython-input-36-eb081f244ad1>\u001b[0m in \u001b[0;36m<module>\u001b[0;34m()\u001b[0m\n\u001b[1;32m      3\u001b[0m         \u001b[0mtrain_generator\u001b[0m\u001b[0;34m,\u001b[0m\u001b[0;34m\u001b[0m\u001b[0;34m\u001b[0m\u001b[0m\n\u001b[1;32m      4\u001b[0m         \u001b[0msteps_per_epoch\u001b[0m\u001b[0;34m=\u001b[0m\u001b[0mlen\u001b[0m\u001b[0;34m(\u001b[0m\u001b[0mX_train1\u001b[0m\u001b[0;34m)\u001b[0m \u001b[0;34m//\u001b[0m \u001b[0mbatch_size\u001b[0m\u001b[0;34m,\u001b[0m\u001b[0;34m\u001b[0m\u001b[0;34m\u001b[0m\u001b[0m\n\u001b[0;32m----> 5\u001b[0;31m \tvalidation_data=(X_val1,y_val),epochs=30, callbacks=callbacks)\n\u001b[0m",
            "\u001b[0;32m/usr/local/lib/python3.7/dist-packages/tensorflow/python/keras/engine/training.py\u001b[0m in \u001b[0;36mfit\u001b[0;34m(self, x, y, batch_size, epochs, verbose, callbacks, validation_split, validation_data, shuffle, class_weight, sample_weight, initial_epoch, steps_per_epoch, validation_steps, validation_batch_size, validation_freq, max_queue_size, workers, use_multiprocessing)\u001b[0m\n\u001b[1;32m   1181\u001b[0m                 _r=1):\n\u001b[1;32m   1182\u001b[0m               \u001b[0mcallbacks\u001b[0m\u001b[0;34m.\u001b[0m\u001b[0mon_train_batch_begin\u001b[0m\u001b[0;34m(\u001b[0m\u001b[0mstep\u001b[0m\u001b[0;34m)\u001b[0m\u001b[0;34m\u001b[0m\u001b[0;34m\u001b[0m\u001b[0m\n\u001b[0;32m-> 1183\u001b[0;31m               \u001b[0mtmp_logs\u001b[0m \u001b[0;34m=\u001b[0m \u001b[0mself\u001b[0m\u001b[0;34m.\u001b[0m\u001b[0mtrain_function\u001b[0m\u001b[0;34m(\u001b[0m\u001b[0miterator\u001b[0m\u001b[0;34m)\u001b[0m\u001b[0;34m\u001b[0m\u001b[0;34m\u001b[0m\u001b[0m\n\u001b[0m\u001b[1;32m   1184\u001b[0m               \u001b[0;32mif\u001b[0m \u001b[0mdata_handler\u001b[0m\u001b[0;34m.\u001b[0m\u001b[0mshould_sync\u001b[0m\u001b[0;34m:\u001b[0m\u001b[0;34m\u001b[0m\u001b[0;34m\u001b[0m\u001b[0m\n\u001b[1;32m   1185\u001b[0m                 \u001b[0mcontext\u001b[0m\u001b[0;34m.\u001b[0m\u001b[0masync_wait\u001b[0m\u001b[0;34m(\u001b[0m\u001b[0;34m)\u001b[0m\u001b[0;34m\u001b[0m\u001b[0;34m\u001b[0m\u001b[0m\n",
            "\u001b[0;32m/usr/local/lib/python3.7/dist-packages/tensorflow/python/eager/def_function.py\u001b[0m in \u001b[0;36m__call__\u001b[0;34m(self, *args, **kwds)\u001b[0m\n\u001b[1;32m    887\u001b[0m \u001b[0;34m\u001b[0m\u001b[0m\n\u001b[1;32m    888\u001b[0m       \u001b[0;32mwith\u001b[0m \u001b[0mOptionalXlaContext\u001b[0m\u001b[0;34m(\u001b[0m\u001b[0mself\u001b[0m\u001b[0;34m.\u001b[0m\u001b[0m_jit_compile\u001b[0m\u001b[0;34m)\u001b[0m\u001b[0;34m:\u001b[0m\u001b[0;34m\u001b[0m\u001b[0;34m\u001b[0m\u001b[0m\n\u001b[0;32m--> 889\u001b[0;31m         \u001b[0mresult\u001b[0m \u001b[0;34m=\u001b[0m \u001b[0mself\u001b[0m\u001b[0;34m.\u001b[0m\u001b[0m_call\u001b[0m\u001b[0;34m(\u001b[0m\u001b[0;34m*\u001b[0m\u001b[0margs\u001b[0m\u001b[0;34m,\u001b[0m \u001b[0;34m**\u001b[0m\u001b[0mkwds\u001b[0m\u001b[0;34m)\u001b[0m\u001b[0;34m\u001b[0m\u001b[0;34m\u001b[0m\u001b[0m\n\u001b[0m\u001b[1;32m    890\u001b[0m \u001b[0;34m\u001b[0m\u001b[0m\n\u001b[1;32m    891\u001b[0m       \u001b[0mnew_tracing_count\u001b[0m \u001b[0;34m=\u001b[0m \u001b[0mself\u001b[0m\u001b[0;34m.\u001b[0m\u001b[0mexperimental_get_tracing_count\u001b[0m\u001b[0;34m(\u001b[0m\u001b[0;34m)\u001b[0m\u001b[0;34m\u001b[0m\u001b[0;34m\u001b[0m\u001b[0m\n",
            "\u001b[0;32m/usr/local/lib/python3.7/dist-packages/tensorflow/python/eager/def_function.py\u001b[0m in \u001b[0;36m_call\u001b[0;34m(self, *args, **kwds)\u001b[0m\n\u001b[1;32m    915\u001b[0m       \u001b[0;31m# In this case we have created variables on the first call, so we run the\u001b[0m\u001b[0;34m\u001b[0m\u001b[0;34m\u001b[0m\u001b[0;34m\u001b[0m\u001b[0m\n\u001b[1;32m    916\u001b[0m       \u001b[0;31m# defunned version which is guaranteed to never create variables.\u001b[0m\u001b[0;34m\u001b[0m\u001b[0;34m\u001b[0m\u001b[0;34m\u001b[0m\u001b[0m\n\u001b[0;32m--> 917\u001b[0;31m       \u001b[0;32mreturn\u001b[0m \u001b[0mself\u001b[0m\u001b[0;34m.\u001b[0m\u001b[0m_stateless_fn\u001b[0m\u001b[0;34m(\u001b[0m\u001b[0;34m*\u001b[0m\u001b[0margs\u001b[0m\u001b[0;34m,\u001b[0m \u001b[0;34m**\u001b[0m\u001b[0mkwds\u001b[0m\u001b[0;34m)\u001b[0m  \u001b[0;31m# pylint: disable=not-callable\u001b[0m\u001b[0;34m\u001b[0m\u001b[0;34m\u001b[0m\u001b[0m\n\u001b[0m\u001b[1;32m    918\u001b[0m     \u001b[0;32melif\u001b[0m \u001b[0mself\u001b[0m\u001b[0;34m.\u001b[0m\u001b[0m_stateful_fn\u001b[0m \u001b[0;32mis\u001b[0m \u001b[0;32mnot\u001b[0m \u001b[0;32mNone\u001b[0m\u001b[0;34m:\u001b[0m\u001b[0;34m\u001b[0m\u001b[0;34m\u001b[0m\u001b[0m\n\u001b[1;32m    919\u001b[0m       \u001b[0;31m# Release the lock early so that multiple threads can perform the call\u001b[0m\u001b[0;34m\u001b[0m\u001b[0;34m\u001b[0m\u001b[0;34m\u001b[0m\u001b[0m\n",
            "\u001b[0;32m/usr/local/lib/python3.7/dist-packages/tensorflow/python/eager/function.py\u001b[0m in \u001b[0;36m__call__\u001b[0;34m(self, *args, **kwargs)\u001b[0m\n\u001b[1;32m   3022\u001b[0m        filtered_flat_args) = self._maybe_define_function(args, kwargs)\n\u001b[1;32m   3023\u001b[0m     return graph_function._call_flat(\n\u001b[0;32m-> 3024\u001b[0;31m         filtered_flat_args, captured_inputs=graph_function.captured_inputs)  # pylint: disable=protected-access\n\u001b[0m\u001b[1;32m   3025\u001b[0m \u001b[0;34m\u001b[0m\u001b[0m\n\u001b[1;32m   3026\u001b[0m   \u001b[0;34m@\u001b[0m\u001b[0mproperty\u001b[0m\u001b[0;34m\u001b[0m\u001b[0;34m\u001b[0m\u001b[0m\n",
            "\u001b[0;32m/usr/local/lib/python3.7/dist-packages/tensorflow/python/eager/function.py\u001b[0m in \u001b[0;36m_call_flat\u001b[0;34m(self, args, captured_inputs, cancellation_manager)\u001b[0m\n\u001b[1;32m   1959\u001b[0m       \u001b[0;31m# No tape is watching; skip to running the function.\u001b[0m\u001b[0;34m\u001b[0m\u001b[0;34m\u001b[0m\u001b[0;34m\u001b[0m\u001b[0m\n\u001b[1;32m   1960\u001b[0m       return self._build_call_outputs(self._inference_function.call(\n\u001b[0;32m-> 1961\u001b[0;31m           ctx, args, cancellation_manager=cancellation_manager))\n\u001b[0m\u001b[1;32m   1962\u001b[0m     forward_backward = self._select_forward_and_backward_functions(\n\u001b[1;32m   1963\u001b[0m         \u001b[0margs\u001b[0m\u001b[0;34m,\u001b[0m\u001b[0;34m\u001b[0m\u001b[0;34m\u001b[0m\u001b[0m\n",
            "\u001b[0;32m/usr/local/lib/python3.7/dist-packages/tensorflow/python/eager/function.py\u001b[0m in \u001b[0;36mcall\u001b[0;34m(self, ctx, args, cancellation_manager)\u001b[0m\n\u001b[1;32m    594\u001b[0m               \u001b[0minputs\u001b[0m\u001b[0;34m=\u001b[0m\u001b[0margs\u001b[0m\u001b[0;34m,\u001b[0m\u001b[0;34m\u001b[0m\u001b[0;34m\u001b[0m\u001b[0m\n\u001b[1;32m    595\u001b[0m               \u001b[0mattrs\u001b[0m\u001b[0;34m=\u001b[0m\u001b[0mattrs\u001b[0m\u001b[0;34m,\u001b[0m\u001b[0;34m\u001b[0m\u001b[0;34m\u001b[0m\u001b[0m\n\u001b[0;32m--> 596\u001b[0;31m               ctx=ctx)\n\u001b[0m\u001b[1;32m    597\u001b[0m         \u001b[0;32melse\u001b[0m\u001b[0;34m:\u001b[0m\u001b[0;34m\u001b[0m\u001b[0;34m\u001b[0m\u001b[0m\n\u001b[1;32m    598\u001b[0m           outputs = execute.execute_with_cancellation(\n",
            "\u001b[0;32m/usr/local/lib/python3.7/dist-packages/tensorflow/python/eager/execute.py\u001b[0m in \u001b[0;36mquick_execute\u001b[0;34m(op_name, num_outputs, inputs, attrs, ctx, name)\u001b[0m\n\u001b[1;32m     58\u001b[0m     \u001b[0mctx\u001b[0m\u001b[0;34m.\u001b[0m\u001b[0mensure_initialized\u001b[0m\u001b[0;34m(\u001b[0m\u001b[0;34m)\u001b[0m\u001b[0;34m\u001b[0m\u001b[0;34m\u001b[0m\u001b[0m\n\u001b[1;32m     59\u001b[0m     tensors = pywrap_tfe.TFE_Py_Execute(ctx._handle, device_name, op_name,\n\u001b[0;32m---> 60\u001b[0;31m                                         inputs, attrs, num_outputs)\n\u001b[0m\u001b[1;32m     61\u001b[0m   \u001b[0;32mexcept\u001b[0m \u001b[0mcore\u001b[0m\u001b[0;34m.\u001b[0m\u001b[0m_NotOkStatusException\u001b[0m \u001b[0;32mas\u001b[0m \u001b[0me\u001b[0m\u001b[0;34m:\u001b[0m\u001b[0;34m\u001b[0m\u001b[0;34m\u001b[0m\u001b[0m\n\u001b[1;32m     62\u001b[0m     \u001b[0;32mif\u001b[0m \u001b[0mname\u001b[0m \u001b[0;32mis\u001b[0m \u001b[0;32mnot\u001b[0m \u001b[0;32mNone\u001b[0m\u001b[0;34m:\u001b[0m\u001b[0;34m\u001b[0m\u001b[0;34m\u001b[0m\u001b[0m\n",
            "\u001b[0;31mKeyboardInterrupt\u001b[0m: "
          ]
        }
      ]
    }
  ]
}