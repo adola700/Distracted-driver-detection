{
  "nbformat": 4,
  "nbformat_minor": 0,
  "metadata": {
    "colab": {
      "provenance": [],
      "collapsed_sections": [],
      "machine_shape": "hm"
    },
    "kernelspec": {
      "name": "python3",
      "display_name": "Python 3"
    },
    "language_info": {
      "name": "python"
    },
    "accelerator": "GPU"
  },
  "cells": [
    {
      "cell_type": "code",
      "metadata": {
        "id": "5V2wWpmYK2ae",
        "colab": {
          "base_uri": "https://localhost:8080/"
        },
        "outputId": "aa75fb3e-6a2e-4767-d572-0e3b8a38f3ba"
      },
      "source": [
        "from google.colab import drive\n",
        "drive.mount('/content/gdrive')"
      ],
      "execution_count": null,
      "outputs": [
        {
          "output_type": "stream",
          "text": [
            "Mounted at /content/gdrive\n"
          ],
          "name": "stdout"
        }
      ]
    },
    {
      "cell_type": "code",
      "metadata": {
        "id": "847ZtHykKl0s"
      },
      "source": [
        "from numpy import *\n",
        "import pandas as pd\n",
        "import os\n",
        "from PIL import Image\n",
        "import matplotlib.pyplot as plt\n",
        "import cv2\n",
        "import joblib\n",
        "from IPython.display import Image\n",
        "import keras\n",
        "from keras.models import Sequential\n",
        "from keras.layers import Dense, Dropout, Flatten,Input\n",
        "from keras.layers import Conv2D, MaxPooling2D\n",
        "from keras.preprocessing import image \n",
        "from keras.layers.normalization import BatchNormalization\n",
        "from keras.models import Model\n",
        "from keras import optimizers"
      ],
      "execution_count": null,
      "outputs": []
    },
    {
      "cell_type": "code",
      "metadata": {
        "id": "iDCYmpgEFz30"
      },
      "source": [
        "size = 128\n",
        "batch_size = 64\n",
        "channels = 3"
      ],
      "execution_count": null,
      "outputs": []
    },
    {
      "cell_type": "code",
      "metadata": {
        "id": "HVU7U_gvF7dP"
      },
      "source": [
        "import joblib\n",
        "X_test1 =joblib.load(\"/content/gdrive/MyDrive/project/X_test11.pkl\")"
      ],
      "execution_count": null,
      "outputs": []
    },
    {
      "cell_type": "markdown",
      "metadata": {
        "id": "IoH9uJHvNpch"
      },
      "source": [
        "# VGG16 - model 1"
      ]
    },
    {
      "cell_type": "code",
      "metadata": {
        "id": "wujpbtK6GAo7"
      },
      "source": [
        "from keras.applications.vgg16 import VGG16, preprocess_input"
      ],
      "execution_count": null,
      "outputs": []
    },
    {
      "cell_type": "code",
      "metadata": {
        "id": "2DPUZ8KwXIyf"
      },
      "source": [
        "!pip3 install tensorflow-gpu"
      ],
      "execution_count": null,
      "outputs": []
    },
    {
      "cell_type": "code",
      "metadata": {
        "id": "Lgb930jEWZc_"
      },
      "source": [
        "!nvidia-smi"
      ],
      "execution_count": null,
      "outputs": []
    },
    {
      "cell_type": "code",
      "metadata": {
        "id": "f30vRhRK4JLY",
        "cellView": "code"
      },
      "source": [
        "#@title 0.43 log loss\n",
        "from keras.layers import Input, Lambda, Dense, Flatten\n",
        "from keras.models import Model\n",
        "from keras.applications.vgg16 import VGG16\n",
        "from keras.applications.vgg16 import preprocess_input\n",
        "from keras.preprocessing import image\n",
        "from keras.preprocessing.image import ImageDataGenerator\n",
        "from keras.models import Sequential\n",
        "\n",
        "# re-size all the images to this\n",
        "# add preprocessing layer to the front of VGG\n",
        "vgg16_input = Input(shape = (size,size,channels))\n",
        "\n",
        "vgg = VGG16(input_tensor=vgg16_input, weights='imagenet', include_top=False)\n",
        "\n",
        "for layer in vgg.layers:\n",
        "\tlayer.trainable = False\n",
        "x = vgg(vgg16_input)\n",
        "x = Flatten()(x)\n",
        "x = Dropout(0.3)(x)\n",
        "x = Dense(512, activation='relu')(x)\n",
        "x = Dropout(0.6)(x)\n",
        "x = Dense(128, activation='relu')(x)\n",
        "prediction = Dense(10, activation='softmax')(x)\n",
        "\n",
        "# create a model object\n",
        "model1 = Model(inputs = vgg16_input, outputs = prediction )\n",
        "model1.load_weights('/content/gdrive/MyDrive/project/vgg_0.36__preproccessed_loss.h5')\n",
        "y_model1_pred = model1.predict(X_test1)\n",
        "y_model1_pred_class = argmax(y_model1_pred, axis=1)"
      ],
      "execution_count": null,
      "outputs": []
    },
    {
      "cell_type": "markdown",
      "metadata": {
        "id": "PMiKmMqgJyOe"
      },
      "source": [
        "# VGG16 - model 2"
      ]
    },
    {
      "cell_type": "code",
      "metadata": {
        "id": "jDAuDvsFYPUg"
      },
      "source": [
        "model2 = Model(inputs = vgg16_input, outputs = prediction )\n",
        "model2.load_weights('/content/gdrive/MyDrive/project/vgg_0.41__preproccessed_loss.h5')\n",
        "\n",
        "y_model2_pred = model2.predict(X_test1)"
      ],
      "execution_count": null,
      "outputs": []
    },
    {
      "cell_type": "markdown",
      "metadata": {
        "id": "9362Lho8J0P-"
      },
      "source": [
        "# VGG16 - model 3"
      ]
    },
    {
      "cell_type": "code",
      "metadata": {
        "id": "fM3IAb0_IZt_",
        "colab": {
          "base_uri": "https://localhost:8080/"
        },
        "outputId": "31e0ad13-e710-4daf-b641-0815128fbdf3"
      },
      "source": [
        "from keras.layers import Input, Lambda, Dense, Flatten\n",
        "from keras.models import Model\n",
        "from keras.applications.vgg16 import VGG16\n",
        "from keras.applications.vgg16 import preprocess_input\n",
        "from keras.preprocessing import image\n",
        "from keras.preprocessing.image import ImageDataGenerator\n",
        "from keras.models import Sequential\n",
        "\n",
        "# re-size all the images to this\n",
        "# add preprocessing layer to the front of VGG\n",
        "vgg16_input = Input(shape = (size,size,channels))\n",
        "\n",
        "vgg = VGG16(input_tensor=vgg16_input, weights='imagenet', include_top=False)\n",
        "\n",
        "x = vgg(vgg16_input)\n",
        "\n",
        "x = Flatten()(x)\n",
        "prediction = Dense(10, activation='softmax')(x)\n",
        "\n",
        "model3 = Model(inputs = vgg16_input, outputs = prediction )\n",
        "model3.load_weights('/content/gdrive/MyDrive/project/vgg_0.43__preproccessed_loss.h5')\n",
        "\n",
        "y_model3_pred = model3.predict(X_test1)\n",
        "print('Images Predicted until now:',len(y_model3_pred))"
      ],
      "execution_count": null,
      "outputs": [
        {
          "output_type": "stream",
          "text": [
            "Images Predicted until now: 79726\n"
          ],
          "name": "stdout"
        }
      ]
    },
    {
      "cell_type": "markdown",
      "metadata": {
        "id": "ey_lzLwMJ4HF"
      },
      "source": [
        "# VGG16 - model 4\n",
        "\n",
        "\n"
      ]
    },
    {
      "cell_type": "code",
      "metadata": {
        "id": "7BPJh_GRJ5co"
      },
      "source": [
        "from keras.layers import Input, Lambda, Dense, Flatten\n",
        "from keras.models import Model\n",
        "from keras.applications.vgg16 import VGG16\n",
        "from keras.applications.vgg16 import preprocess_input\n",
        "from keras.preprocessing import image\n",
        "from keras.preprocessing.image import ImageDataGenerator\n",
        "from keras.models import Sequential\n",
        "\n",
        "# re-size all the images to this\n",
        "# add preprocessing layer to the front of VGG\n",
        "vgg16_input = Input(shape = (size,size,channels))\n",
        "\n",
        "vgg = VGG16(input_tensor=vgg16_input, weights='imagenet', include_top=False)\n",
        "# X_train2=preprocess_input(X_train)\n",
        "# X_val2=preprocess_input(X_val)\n",
        "x = vgg(vgg16_input)\n",
        "\n",
        "x = Flatten()(x)\n",
        "prediction = Dense(10, activation='softmax')(x)\n",
        "\n",
        "model4 = Model(inputs = vgg16_input, outputs = prediction )\n",
        "model4.load_weights('/content/gdrive/MyDrive/project/vgg_0.45_loss.h5')\n",
        "\n",
        "y_model4_pred = model4.predict(X_test1)"
      ],
      "execution_count": null,
      "outputs": []
    },
    {
      "cell_type": "markdown",
      "metadata": {
        "id": "CaaW_zgrSK2i"
      },
      "source": [
        "# Resnet50 - model 5"
      ]
    },
    {
      "cell_type": "code",
      "metadata": {
        "id": "_VUENFruC0Fl"
      },
      "source": [
        "from tensorflow.keras.preprocessing.image import ImageDataGenerator\n",
        "from tensorflow.keras.layers import AveragePooling2D\n",
        "from tensorflow.keras.layers import Dropout\n",
        "from tensorflow.keras.layers import Flatten\n",
        "from tensorflow.keras.layers import Dense\n",
        "from tensorflow.keras.layers import Input\n",
        "from tensorflow.keras.models import Model\n",
        "from tensorflow.keras.optimizers import Adam\n",
        "from tensorflow.keras.applications import ResNet50\n",
        "from keras.applications.resnet50 import preprocess_input\n",
        "\n",
        "\n",
        "# X_train1=preprocess_input(X_train)\n",
        "# X_val1=preprocess_input(X_val) -these are not neccessary as "
      ],
      "execution_count": null,
      "outputs": []
    },
    {
      "cell_type": "code",
      "metadata": {
        "id": "qNgtHgw4vpeo",
        "colab": {
          "base_uri": "https://localhost:8080/"
        },
        "outputId": "6b3e4b8c-c3ce-4232-d2dc-c132ca55407c"
      },
      "source": [
        "baseModel = ResNet50(weights=\"imagenet\", include_top=False, input_tensor=Input(shape=(128, 128, 3)))\n",
        "# construct the head of the model that will be placed on top of the\n",
        "# the base model\n",
        "headModel = baseModel.output\n",
        "headModel = AveragePooling2D(pool_size=(4, 4))(headModel)\n",
        "headModel = Flatten(name=\"flatten\")(headModel)\n",
        "headModel = Dense(512, activation=\"relu\")(headModel)\n",
        "headModel = Dropout(0.5)(headModel)\n",
        "headModel = Dense(128, activation=\"relu\")(headModel)\n",
        "headModel = Dropout(0.5)(headModel)\n",
        "headModel = Dense(10, activation=\"softmax\")(headModel)\n",
        "# # place the head FC model on top of the base model (this will become\n",
        "model5 = Model(inputs=baseModel.input, outputs=headModel)"
      ],
      "execution_count": null,
      "outputs": [
        {
          "output_type": "stream",
          "text": [
            "Downloading data from https://storage.googleapis.com/tensorflow/keras-applications/resnet/resnet50_weights_tf_dim_ordering_tf_kernels_notop.h5\n",
            "94773248/94765736 [==============================] - 3s 0us/step\n"
          ],
          "name": "stdout"
        }
      ]
    },
    {
      "cell_type": "code",
      "metadata": {
        "id": "7-wbB-yhKQv6"
      },
      "source": [
        "model5.load_weights('/content/gdrive/MyDrive/project/resnet_0.4677_loss_preprocessed.h5')\n",
        "y_model5_pred = model5.predict(X_test1)"
      ],
      "execution_count": null,
      "outputs": []
    },
    {
      "cell_type": "markdown",
      "metadata": {
        "id": "y8ypbS9kLuBg"
      },
      "source": [
        "# Resnet50 - model 6"
      ]
    },
    {
      "cell_type": "code",
      "metadata": {
        "id": "UFF1OxRvL0K9"
      },
      "source": [
        "from tensorflow.keras.preprocessing.image import ImageDataGenerator\n",
        "from tensorflow.keras.layers import AveragePooling2D\n",
        "from tensorflow.keras.layers import Dropout\n",
        "from tensorflow.keras.layers import Flatten\n",
        "from tensorflow.keras.layers import Dense\n",
        "from tensorflow.keras.layers import Input\n",
        "from tensorflow.keras.models import Model\n",
        "from tensorflow.keras.optimizers import Adam\n",
        "from tensorflow.keras.applications import ResNet50\n",
        "from keras.applications.resnet50 import preprocess_input\n",
        "\n",
        "\n",
        "# X_train1=preprocess_input(X_train)\n",
        "# X_val1=preprocess_input(X_val)"
      ],
      "execution_count": null,
      "outputs": []
    },
    {
      "cell_type": "code",
      "metadata": {
        "id": "xZqEQUR_L0K_"
      },
      "source": [
        "baseModel = ResNet50(weights=\"imagenet\", include_top=False, input_tensor=Input(shape=(128, 128, 3)))\n",
        "# construct the head of the model that will be placed on top of the\n",
        "# the base model\n",
        "headModel = baseModel.output\n",
        "headModel = AveragePooling2D(pool_size=(4, 4))(headModel)\n",
        "headModel = Flatten(name=\"flatten\")(headModel)\n",
        "headModel = Dense(512, activation=\"relu\")(headModel)\n",
        "headModel = Dropout(0.5)(headModel)\n",
        "headModel = Dense(128, activation=\"relu\")(headModel)\n",
        "headModel = Dropout(0.5)(headModel)\n",
        "headModel = Dense(10, activation=\"softmax\")(headModel)\n",
        "# # place the head FC model on top of the base model (this will become\n",
        "model6 = Model(inputs=baseModel.input, outputs=headModel)"
      ],
      "execution_count": null,
      "outputs": []
    },
    {
      "cell_type": "code",
      "metadata": {
        "id": "NS-N_XuVL0LA"
      },
      "source": [
        "model6.load_weights('/content/gdrive/MyDrive/project/resnet_0.5_loss_preprocessed.h5')\n",
        "y_model6_pred = model6.predict(X_test1)"
      ],
      "execution_count": null,
      "outputs": []
    },
    {
      "cell_type": "code",
      "metadata": {
        "id": "q91iSSNNdTH3"
      },
      "source": [
        "y_model1_pred=joblib.load(\"/content/gdrive/MyDrive/project/y_model1_pred.pkl\") \n",
        "y_model2_pred=joblib.load(\"/content/gdrive/MyDrive/project/y_model2_pred.pkl\") \n",
        "y_model3_pred=joblib.load(\"/content/gdrive/MyDrive/project/y_model3_pred.pkl\") \n",
        "y_model4_pred=joblib.load(\"/content/gdrive/MyDrive/project/y_model4_pred.pkl\") \n",
        "y_model5_pred=joblib.load(\"/content/gdrive/MyDrive/project/y_model5_pred.pkl\") \n",
        "y_model6_pred=joblib.load(\"/content/gdrive/MyDrive/project/y_model6_pred.pkl\") "
      ],
      "execution_count": null,
      "outputs": []
    },
    {
      "cell_type": "markdown",
      "metadata": {
        "id": "nFe13F_evXl4"
      },
      "source": [
        "# Mobilenet model 9"
      ]
    },
    {
      "cell_type": "code",
      "metadata": {
        "id": "Z-DxFXjrvfqd"
      },
      "source": [
        "from tensorflow.keras.preprocessing.image import ImageDataGenerator\n",
        "from tensorflow.keras.layers import AveragePooling2D\n",
        "from tensorflow.keras.layers import Dropout\n",
        "from tensorflow.keras.layers import Flatten\n",
        "from tensorflow.keras.layers import Dense\n",
        "from tensorflow.keras.layers import Input\n",
        "from tensorflow.keras.models import Model\n",
        "from tensorflow.keras.optimizers import Adam\n",
        "from tensorflow.keras.applications import MobileNet\n",
        "from tensorflow.keras.applications.mobilenet import  preprocess_input\n",
        "from keras.preprocessing.image import ImageDataGenerator\n",
        "from keras.models import Sequential\n",
        "\n",
        "X_test2=joblib.load(\"/content/gdrive/MyDrive/project/X_test2.pkl\")"
      ],
      "execution_count": null,
      "outputs": []
    },
    {
      "cell_type": "code",
      "metadata": {
        "id": "3Isy110qvfqe",
        "colab": {
          "base_uri": "https://localhost:8080/"
        },
        "outputId": "dfaf50c4-6cb4-40e6-86ba-39fbe3351f94"
      },
      "source": [
        "baseModel = MobileNet(weights=\"imagenet\", include_top=False, input_shape=(128, 128, 3) )\n",
        "# construct the head of the model that will be placed on top of the\n",
        "# the base model\n",
        "headModel = baseModel.output\n",
        "headModel = AveragePooling2D(pool_size=(4, 4))(headModel)\n",
        "headModel = Flatten()(headModel)\n",
        "headModel = Dense(256, activation=\"relu\")(headModel)\n",
        "headModel = Dropout(0.5)(headModel)\n",
        "headModel = Dense(256, activation=\"relu\")(headModel)\n",
        "headModel = Dropout(0.5)(headModel)\n",
        "headModel = Dense(10, activation=\"softmax\")(headModel)\n",
        "# # place the head FC model on top of the base model (this will become\n",
        "# # the actual model we will train)\n",
        "model9 = Model(inputs=baseModel.input, outputs=headModel)\n",
        "model9.load_weights(\"/content/gdrive/MyDrive/project/mobilenet_0.3475_loss_preprocessed.h5\")\n",
        "y_model9_pred = model9.predict(X_test2)\n",
        "joblib.dump(y_model9_pred,\"/content/gdrive/MyDrive/project/y_model9_pred.pkl\")     "
      ],
      "execution_count": null,
      "outputs": [
        {
          "output_type": "execute_result",
          "data": {
            "text/plain": [
              "['/content/gdrive/MyDrive/project/y_model9_pred.pkl']"
            ]
          },
          "metadata": {
            "tags": []
          },
          "execution_count": 7
        }
      ]
    },
    {
      "cell_type": "markdown",
      "metadata": {
        "id": "_WysAIHv12bg"
      },
      "source": [
        "# Mobilenet model 10\n",
        "\n",
        "\n",
        "\n"
      ]
    },
    {
      "cell_type": "code",
      "metadata": {
        "id": "0xGsdREF12bh"
      },
      "source": [
        "from tensorflow.keras.preprocessing.image import ImageDataGenerator\n",
        "from tensorflow.keras.layers import AveragePooling2D\n",
        "from tensorflow.keras.layers import Dropout\n",
        "from tensorflow.keras.layers import Flatten\n",
        "from tensorflow.keras.layers import Dense\n",
        "from tensorflow.keras.layers import Input\n",
        "from tensorflow.keras.models import Model\n",
        "from tensorflow.keras.optimizers import Adam\n",
        "from tensorflow.keras.applications import MobileNet\n",
        "from tensorflow.keras.applications.mobilenet import  preprocess_input\n",
        "from keras.preprocessing.image import ImageDataGenerator\n",
        "from keras.models import Sequential"
      ],
      "execution_count": null,
      "outputs": []
    },
    {
      "cell_type": "code",
      "metadata": {
        "id": "yWOVFfdL12bi"
      },
      "source": [
        "baseModel = MobileNet(weights=\"imagenet\", include_top=False, input_shape=(128, 128, 3) )\n",
        "# construct the head of the model that will be placed on top of the\n",
        "# the base model\n",
        "headModel = baseModel.output\n",
        "headModel = AveragePooling2D(pool_size=(4, 4))(headModel)\n",
        "headModel = Flatten()(headModel)\n",
        "headModel = Dense(256, activation=\"relu\")(headModel)\n",
        "headModel = Dropout(0.5)(headModel)\n",
        "headModel = Dense(256, activation=\"relu\")(headModel)\n",
        "headModel = Dropout(0.5)(headModel)\n",
        "headModel = Dense(10, activation=\"softmax\")(headModel)\n",
        "# # place the head FC model on top of the base model (this will become\n",
        "# # the actual model we will train)\n",
        "model10 = Model(inputs=baseModel.input, outputs=headModel)\n",
        "model10.load_weights(\"/content/gdrive/MyDrive/project/mobilenet_0.3407_loss_preprocessed.h5\")\n",
        "\n",
        "y_model10_pred = model10.predict(X_test2)\n",
        "joblib.dump(y_model10_pred,\"/content/gdrive/MyDrive/project/y_model10_pred.pkl\")     "
      ],
      "execution_count": null,
      "outputs": []
    },
    {
      "cell_type": "markdown",
      "metadata": {
        "id": "C5kbLYujSekQ"
      },
      "source": [
        "# Mean Trimmed Ensembling \n"
      ]
    },
    {
      "cell_type": "code",
      "metadata": {
        "id": "EdvJGhORSd1B"
      },
      "source": [
        "from statistics import mean\n",
        "# For Trimmed Mean\n",
        "ensemble_predictions = []\n",
        "predictions = []\n",
        "\n",
        "for i in range(len(X_test2)):\n",
        "    mean_prediction = []\n",
        "    average_pred=[]\n",
        "    for j in range(10):\n",
        "        predictions = []\n",
        "        predictions.append(y_model1_pred[i][j])\n",
        "        predictions.append(y_model2_pred[i][j])\n",
        "        predictions.append(y_model3_pred[i][j])\n",
        "        predictions.append(y_model4_pred[i][j])\n",
        "        predictions.append(y_model5_pred[i][j])\n",
        "        predictions.append(y_model6_pred[i][j])\n",
        "        predictions.append(y_model9_pred[i][j])\n",
        "        predictions.append(y_model10_pred[i][j])\n",
        "\n",
        "        trimmed_mean = (sum(predictions) - max(predictions) - min(predictions))/(len(predictions) - 2)\n",
        "        predictions = []\n",
        "        mean_prediction.append(trimmed_mean)\n",
        "\n",
        "\n",
        "    average_pred=average_pred/sum(average_pred)\n",
        "    mean_prediction = mean_prediction/ sum(mean_prediction)\n",
        "    ensemble_predictions.append(mean_prediction)\n",
        "        \n",
        "ensemble_predictions = array(ensemble_predictions)"
      ],
      "execution_count": null,
      "outputs": []
    },
    {
      "cell_type": "code",
      "metadata": {
        "id": "26EGPdo2p0pa"
      },
      "source": [
        "joblib.dump(ensemble_predictions,\"/content/gdrive/MyDrive/project/ensemble_predictions.pkl\")     "
      ],
      "execution_count": null,
      "outputs": []
    },
    {
      "cell_type": "markdown",
      "metadata": {
        "id": "YWDx898SWFJY"
      },
      "source": [
        "# KNN on Images\n"
      ]
    },
    {
      "cell_type": "code",
      "metadata": {
        "id": "ij6H8R1l_Iwv"
      },
      "source": [
        "import pandas as pd\n",
        "test_data1 = pd.read_pickle('/content/gdrive/MyDrive/project/knn_test.pkl')\n",
        "data1=test_data1.to_numpy()"
      ],
      "execution_count": null,
      "outputs": []
    },
    {
      "cell_type": "code",
      "metadata": {
        "id": "ew5F4heP7lTh",
        "colab": {
          "base_uri": "https://localhost:8080/"
        },
        "outputId": "be1f46a9-c8a1-4cdf-fad6-cfec7e7bad5c"
      },
      "source": [
        "data1 "
      ],
      "execution_count": null,
      "outputs": [
        {
          "output_type": "execute_result",
          "data": {
            "text/plain": [
              "array([['img_85907.jpg',\n",
              "        array([22, 27, 21, ...,  7,  7,  5], dtype=uint8)],\n",
              "       ['img_24401.jpg',\n",
              "        array([11, 11,  8, ...,  8,  7,  3], dtype=uint8)],\n",
              "       ['img_18299.jpg',\n",
              "        array([38, 48, 37, ..., 23, 12, 14], dtype=uint8)],\n",
              "       ...,\n",
              "       ['img_37544.jpg',\n",
              "        array([66, 76, 60, ..., 10,  8,  9], dtype=uint8)],\n",
              "       ['img_7485.jpg',\n",
              "        array([28, 34, 20, ..., 43, 48, 56], dtype=uint8)],\n",
              "       ['img_31518.jpg',\n",
              "        array([38, 46, 31, ..., 44, 61, 80], dtype=uint8)]], dtype=object)"
            ]
          },
          "metadata": {
            "tags": []
          },
          "execution_count": 16
        }
      ]
    },
    {
      "cell_type": "code",
      "metadata": {
        "colab": {
          "base_uri": "https://localhost:8080/"
        },
        "id": "-gC82vD5ym4G",
        "outputId": "c1f3ac0e-4331-4c17-aa2c-eacf650746e4"
      },
      "source": [
        "data_dict=dict(( data1[i][0], data1[i][1]) for i in range(len(data1) ) )\n",
        "knn_input=array([data_dict[imgs[i]] for i in range(len(imgs))])  # To get knn_input in same order as imgs list\n",
        "knn_input"
      ],
      "execution_count": null,
      "outputs": [
        {
          "output_type": "execute_result",
          "data": {
            "text/plain": [
              "array([[ 21,  23,  18, ...,  11,   5,   5],\n",
              "       [ 22,  25,  16, ...,  22,  21,  19],\n",
              "       [248, 254, 254, ...,  31,  42,  35],\n",
              "       ...,\n",
              "       [ 21,  22,  17, ...,  18,  14,  15],\n",
              "       [ 28,  35,  25, ...,  36,  49,  62],\n",
              "       [ 13,  19,  13, ...,   9,   8,   4]], dtype=uint8)"
            ]
          },
          "metadata": {
            "tags": []
          },
          "execution_count": 15
        }
      ]
    },
    {
      "cell_type": "code",
      "metadata": {
        "id": "EwVTW8VY8KkX"
      },
      "source": [
        "imgs= joblib.dump(knn_input,'/content/gdrive/MyDrive/project/knn_input.pkl')"
      ],
      "execution_count": null,
      "outputs": []
    },
    {
      "cell_type": "code",
      "metadata": {
        "id": "VlSfSgMx_IxC",
        "colab": {
          "base_uri": "https://localhost:8080/",
          "height": 265
        },
        "outputId": "a89a2137-a5cf-45cb-edb5-809106f5ce01"
      },
      "source": [
        "plt.imshow(knn_input[10].reshape(30,40,3))\n",
        "plt.axis('off')"
      ],
      "execution_count": null,
      "outputs": [
        {
          "output_type": "execute_result",
          "data": {
            "text/plain": [
              "(-0.5, 39.5, 29.5, -0.5)"
            ]
          },
          "metadata": {
            "tags": []
          },
          "execution_count": 20
        },
        {
          "output_type": "display_data",
          "data": {
            "image/png": "[encoded data removed]",
            "text/plain": [
              "<Figure size 432x288 with 1 Axes>"
            ]
          },
          "metadata": {
            "tags": [],
            "needs_background": "light"
          }
        }
      ]
    },
    {
      "cell_type": "code",
      "metadata": {
        "id": "a1rhog6O4PFS"
      },
      "source": [
        "# Install RAPIDS\n",
        "!git clone https://github.com/rapidsai/rapidsai-csp-utils.git\n",
        "!bash rapidsai-csp-utils/colab/rapids-colab.sh stable\n",
        "\n",
        "import sys, os\n",
        "\n",
        "dist_package_index = sys.path.index('/usr/local/lib/python3.7/dist-packages')\n",
        "sys.path = sys.path[:dist_package_index] + ['/usr/local/lib/python3.7/site-packages'] + sys.path[dist_package_index:]\n",
        "sys.path\n",
        "exec(open('rapidsai-csp-utils/colab/update_modules.py').read(), globals())"
      ],
      "execution_count": null,
      "outputs": []
    },
    {
      "cell_type": "code",
      "metadata": {
        "id": "xzg41CciDVWp"
      },
      "source": [
        "import joblib\n",
        "imgs=joblib.load( \"/content/gdrive/MyDrive/project/img_names.pkl\")"
      ],
      "execution_count": null,
      "outputs": []
    },
    {
      "cell_type": "code",
      "metadata": {
        "id": "by3i13dES1Pa"
      },
      "source": [
        "imgs=imgs.reshape(len(imgs),1)"
      ],
      "execution_count": null,
      "outputs": []
    },
    {
      "cell_type": "code",
      "metadata": {
        "id": "mdyWG6QkDY-9"
      },
      "source": [
        "from cuml.neighbors import NearestNeighbors\n",
        "\n",
        "knn = NearestNeighbors(n_neighbors=15)\n",
        "knn.fit(knn_input)\n",
        "distances, indices1 = knn.kneighbors(knn_input)"
      ],
      "execution_count": null,
      "outputs": []
    },
    {
      "cell_type": "code",
      "metadata": {
        "id": "BWi7PhwqGKpV"
      },
      "source": [
        "knn_predictions = []\n",
        "predictions = []\n",
        "\n",
        "for i in range(indices1.shape[0]):\n",
        "    mean_prediction = []\n",
        "    for j in range(10):\n",
        "        for k in indices1[i]:\n",
        "            predictions.append(ensemble_predictions[k][j])\n",
        "        \n",
        "        trimmed_value = (sum(predictions) - max(predictions) - min(predictions))/(len(predictions) -2 )\n",
        "        mean_value = mean(predictions)\n",
        "        predictions = []\n",
        "        mean_prediction.append(trimmed_value)\n",
        "    \n",
        "    mean_prediction = mean_prediction/sum(mean_prediction)\n",
        "    knn_predictions.append(mean_prediction)\n",
        "            \n",
        "knn_predictions = array(knn_predictions)           "
      ],
      "execution_count": null,
      "outputs": []
    },
    {
      "cell_type": "code",
      "metadata": {
        "colab": {
          "base_uri": "https://localhost:8080/"
        },
        "id": "qOcPkg_7HDdu",
        "outputId": "e6c3fdef-2af8-4e08-e9d7-3a3eea008370"
      },
      "source": [
        "final = np.concatenate((imgs,knn_predictions),axis=1)\n",
        "final.shape"
      ],
      "execution_count": null,
      "outputs": [
        {
          "output_type": "execute_result",
          "data": {
            "text/plain": [
              "(79726, 11)"
            ]
          },
          "metadata": {
            "tags": []
          },
          "execution_count": 102
        }
      ]
    },
    {
      "cell_type": "code",
      "metadata": {
        "id": "_NB1KX24pwCS"
      },
      "source": [
        "# I got a log loss of 0.27773 with this prediction "
      ],
      "execution_count": null,
      "outputs": []
    }
  ]
}